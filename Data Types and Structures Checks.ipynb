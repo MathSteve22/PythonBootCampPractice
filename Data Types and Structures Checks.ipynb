{
 "cells": [
  {
   "cell_type": "markdown",
   "id": "49e666ff",
   "metadata": {},
   "source": [
    "Purpose: To give all of the knowledge checks given, so that I have it in an easy to access document. This one is for the Data Types and Structures Unit."
   ]
  },
  {
   "cell_type": "markdown",
   "id": "a502976d",
   "metadata": {},
   "source": [
    "---\n"
   ]
  },
  {
   "cell_type": "markdown",
   "id": "e2b948a0",
   "metadata": {},
   "source": [
    "### Check 1 (Simple Arithmetic) \n",
    "Write code that equals 100. There are several ways to do this."
   ]
  },
  {
   "cell_type": "code",
   "execution_count": 1,
   "id": "e91ff5d8",
   "metadata": {},
   "outputs": [
    {
     "data": {
      "text/plain": [
       "100"
      ]
     },
     "execution_count": 1,
     "metadata": {},
     "output_type": "execute_result"
    }
   ],
   "source": [
    "10**2"
   ]
  },
  {
   "cell_type": "markdown",
   "id": "cf32f4ae",
   "metadata": {},
   "source": [
    "### Check 2 (Quick Print Check)\n",
    "Use what you know about the print() function to print out the phrase \"Hello World\" . Make sure your capitalization and spacing match."
   ]
  },
  {
   "cell_type": "code",
   "execution_count": 2,
   "id": "1a19c9eb",
   "metadata": {},
   "outputs": [
    {
     "name": "stdout",
     "output_type": "stream",
     "text": [
      "Hello World\n"
     ]
    }
   ],
   "source": [
    "print(\"Hello World\")"
   ]
  },
  {
   "cell_type": "markdown",
   "id": "60d48523",
   "metadata": {},
   "source": [
    "### Check 3 (String Indexing)\n",
    "Using one line, write a string index that returns just the letter 'r' from 'Hello World'."
   ]
  },
  {
   "cell_type": "code",
   "execution_count": 3,
   "id": "845af86c",
   "metadata": {},
   "outputs": [
    {
     "data": {
      "text/plain": [
       "'r'"
      ]
     },
     "execution_count": 3,
     "metadata": {},
     "output_type": "execute_result"
    }
   ],
   "source": [
    "'Hello World'[-3]"
   ]
  },
  {
   "cell_type": "markdown",
   "id": "7f05f1c6",
   "metadata": {},
   "source": [
    "### Check 4 (String Slicing)\n",
    "Using one line, use string slicing to grab the word 'ink'  from inside 'tinker'."
   ]
  },
  {
   "cell_type": "code",
   "execution_count": 4,
   "id": "fa63156b",
   "metadata": {},
   "outputs": [
    {
     "data": {
      "text/plain": [
       "'ink'"
      ]
     },
     "execution_count": 4,
     "metadata": {},
     "output_type": "execute_result"
    }
   ],
   "source": [
    "'tinker'[1:4]"
   ]
  },
  {
   "cell_type": "markdown",
   "id": "8831f1f7",
   "metadata": {},
   "source": [
    "### Check 5 (String Formatting)\n",
    "Write an expression using any of the string formatting methods we have learned (except f-strings, see note below) to return the phrase 'Python rules!' "
   ]
  },
  {
   "cell_type": "code",
   "execution_count": 5,
   "id": "9f09c73b",
   "metadata": {},
   "outputs": [
    {
     "name": "stdout",
     "output_type": "stream",
     "text": [
      "Python rules!\n"
     ]
    }
   ],
   "source": [
    "print('{P} {r}!'.format(P=\"Python\",r=\"rules\"))"
   ]
  },
  {
   "cell_type": "markdown",
   "id": "ed7a7eed",
   "metadata": {},
   "source": [
    "### Check 6 (Lists)\n",
    "Using one line, create a list that contains at least one string, one integer and one float."
   ]
  },
  {
   "cell_type": "code",
   "execution_count": 1,
   "id": "3764f4f8",
   "metadata": {},
   "outputs": [
    {
     "data": {
      "text/plain": [
       "['a', 1, 1.1]"
      ]
     },
     "execution_count": 1,
     "metadata": {},
     "output_type": "execute_result"
    }
   ],
   "source": [
    "['a',1,1.1]"
   ]
  },
  {
   "cell_type": "markdown",
   "id": "99b90344",
   "metadata": {},
   "source": [
    "### Check 7 (Dictionaries)\n",
    "Using one line, create a dictionary where all the keys are strings, and all the values are integers."
   ]
  },
  {
   "cell_type": "code",
   "execution_count": 2,
   "id": "63ffec7d",
   "metadata": {},
   "outputs": [
    {
     "data": {
      "text/plain": [
       "{'one': 1, 'two': 2, 'three': 3}"
      ]
     },
     "execution_count": 2,
     "metadata": {},
     "output_type": "execute_result"
    }
   ],
   "source": [
    "{'one':1,'two':2,'three':3}"
   ]
  },
  {
   "cell_type": "markdown",
   "id": "896a5b79",
   "metadata": {},
   "source": [
    "### Check 8 (Sets)\n",
    "Write an expression that would turn the string 'Mississippi'  into a set of unique letters."
   ]
  },
  {
   "cell_type": "code",
   "execution_count": 3,
   "id": "6b26aa97",
   "metadata": {},
   "outputs": [
    {
     "data": {
      "text/plain": [
       "{'M', 'i', 'p', 's'}"
      ]
     },
     "execution_count": 3,
     "metadata": {},
     "output_type": "execute_result"
    }
   ],
   "source": [
    "set('Mississippi')"
   ]
  },
  {
   "cell_type": "markdown",
   "id": "88936cb5",
   "metadata": {},
   "source": [
    "### Check 9 (File I/O)\n",
    "Write a script that opens a file named 'test.txt' , writes 'Hello World'  to the file, then closes it."
   ]
  },
  {
   "cell_type": "code",
   "execution_count": 1,
   "id": "537fac47",
   "metadata": {},
   "outputs": [],
   "source": [
    "test=open('test.txt',mode='w')\n",
    "test.write('Hello World')\n",
    "test.close()"
   ]
  },
  {
   "cell_type": "markdown",
   "id": "33f7bf51",
   "metadata": {},
   "source": [
    "---\n",
    "### Other Resources\n",
    "In this chapter, there were other resources given that seem useful.\n",
    "> **Basic Practice:**\n",
    ">\n",
    "> http://codingbat.com/python\n",
    ">\n",
    "> **More Mathematical (and Harder) Practice:**\n",
    ">\n",
    "> https://projecteuler.net/archives\n",
    ">\n",
    "> **List of Practice Problems:**\n",
    ">\n",
    "> http://www.codeabbey.com/index/task_list\n",
    ">\n",
    "> **A SubReddit Devoted to Daily Practice Problems:**\n",
    ">\n",
    "> https://www.reddit.com/r/dailyprogrammer\n",
    ">\n",
    "> **A very tricky website with very few hints and touch problems (Not for beginners but still interesting)**\n",
    ">\n",
    "> http://www.pythonchallenge.com/"
   ]
  },
  {
   "cell_type": "markdown",
   "id": "45a878ea",
   "metadata": {},
   "source": [
    "---"
   ]
  },
  {
   "cell_type": "markdown",
   "id": "7fce44aa",
   "metadata": {},
   "source": []
  }
 ],
 "metadata": {
  "kernelspec": {
   "display_name": "Python 3 (ipykernel)",
   "language": "python",
   "name": "python3"
  },
  "language_info": {
   "codemirror_mode": {
    "name": "ipython",
    "version": 3
   },
   "file_extension": ".py",
   "mimetype": "text/x-python",
   "name": "python",
   "nbconvert_exporter": "python",
   "pygments_lexer": "ipython3",
   "version": "3.10.9"
  }
 },
 "nbformat": 4,
 "nbformat_minor": 5
}
